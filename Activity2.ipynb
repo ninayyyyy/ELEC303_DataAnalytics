{
 "cells": [
  {
   "cell_type": "markdown",
   "id": "25a8f154-b313-47e0-a5f1-c04a807ec292",
   "metadata": {},
   "source": [
    "<center><h2>UK ROAD ACCIDENTS DATA ANALYTICS PROJECT</h2>\n",
    "<hr>\n",
    "<h4>ANALYST : JUNNALYN M. MERILLO</h4></center>"
   ]
  },
  {
   "cell_type": "markdown",
   "id": "993b8bf9-b585-4749-84c0-3af0e8895c3e",
   "metadata": {},
   "source": [
    "<h2>IMPORT LIBRARIES</h2>"
   ]
  },
  {
   "cell_type": "code",
   "execution_count": 1,
   "id": "c298e22b-25d2-4161-ad4f-f1bcac672c55",
   "metadata": {},
   "outputs": [],
   "source": [
    "import numpy as np\n",
    "import pandas as pd\n",
    "import seaborn as sns\n",
    "import matplotlib.pyplot as plt\n",
    "import warnings\n",
    "warnings.filterwarnings('ignore')"
   ]
  },
  {
   "cell_type": "markdown",
   "id": "99ea0702-378a-4ffd-b770-1a69ec5c3026",
   "metadata": {},
   "source": [
    "<h2>UPLOAD AND CHECK DATASETS</h2>"
   ]
  },
  {
   "cell_type": "code",
   "execution_count": 2,
   "id": "4c934d89-dade-4403-b85d-714caefb1c95",
   "metadata": {},
   "outputs": [],
   "source": [
    "UK_Accidents = pd.read_csv('Datasets\\\\uk_road_accident.csv')"
   ]
  },
  {
   "cell_type": "code",
   "execution_count": 3,
   "id": "460dc601-b9c5-48b6-8a65-d6b1eec45c19",
   "metadata": {},
   "outputs": [
    {
     "data": {
      "text/html": [
       "<div>\n",
       "<style scoped>\n",
       "    .dataframe tbody tr th:only-of-type {\n",
       "        vertical-align: middle;\n",
       "    }\n",
       "\n",
       "    .dataframe tbody tr th {\n",
       "        vertical-align: top;\n",
       "    }\n",
       "\n",
       "    .dataframe thead th {\n",
       "        text-align: right;\n",
       "    }\n",
       "</style>\n",
       "<table border=\"1\" class=\"dataframe\">\n",
       "  <thead>\n",
       "    <tr style=\"text-align: right;\">\n",
       "      <th></th>\n",
       "      <th>Index</th>\n",
       "      <th>Accident_Severity</th>\n",
       "      <th>Accident Date</th>\n",
       "      <th>Latitude</th>\n",
       "      <th>Light_Conditions</th>\n",
       "      <th>District Area</th>\n",
       "      <th>Longitude</th>\n",
       "      <th>Number_of_Casualties</th>\n",
       "      <th>Number_of_Vehicles</th>\n",
       "      <th>Road_Surface_Conditions</th>\n",
       "      <th>Road_Type</th>\n",
       "      <th>Urban_or_Rural_Area</th>\n",
       "      <th>Weather_Conditions</th>\n",
       "      <th>Vehicle_Type</th>\n",
       "    </tr>\n",
       "  </thead>\n",
       "  <tbody>\n",
       "    <tr>\n",
       "      <th>0</th>\n",
       "      <td>200701BS64157</td>\n",
       "      <td>Serious</td>\n",
       "      <td>5/6/2019</td>\n",
       "      <td>51.506187</td>\n",
       "      <td>Darkness - lights lit</td>\n",
       "      <td>Kensington and Chelsea</td>\n",
       "      <td>-0.209082</td>\n",
       "      <td>1</td>\n",
       "      <td>2</td>\n",
       "      <td>Dry</td>\n",
       "      <td>Single carriageway</td>\n",
       "      <td>Urban</td>\n",
       "      <td>Fine no high winds</td>\n",
       "      <td>Car</td>\n",
       "    </tr>\n",
       "    <tr>\n",
       "      <th>1</th>\n",
       "      <td>200701BS65737</td>\n",
       "      <td>Serious</td>\n",
       "      <td>2/7/2019</td>\n",
       "      <td>51.495029</td>\n",
       "      <td>Daylight</td>\n",
       "      <td>Kensington and Chelsea</td>\n",
       "      <td>-0.173647</td>\n",
       "      <td>1</td>\n",
       "      <td>2</td>\n",
       "      <td>Wet or damp</td>\n",
       "      <td>Single carriageway</td>\n",
       "      <td>Urban</td>\n",
       "      <td>Raining no high winds</td>\n",
       "      <td>Car</td>\n",
       "    </tr>\n",
       "    <tr>\n",
       "      <th>2</th>\n",
       "      <td>200701BS66127</td>\n",
       "      <td>Serious</td>\n",
       "      <td>26-08-2019</td>\n",
       "      <td>51.517715</td>\n",
       "      <td>Darkness - lighting unknown</td>\n",
       "      <td>Kensington and Chelsea</td>\n",
       "      <td>-0.210215</td>\n",
       "      <td>1</td>\n",
       "      <td>3</td>\n",
       "      <td>Dry</td>\n",
       "      <td>NaN</td>\n",
       "      <td>Urban</td>\n",
       "      <td>NaN</td>\n",
       "      <td>Taxi/Private hire car</td>\n",
       "    </tr>\n",
       "    <tr>\n",
       "      <th>3</th>\n",
       "      <td>200701BS66128</td>\n",
       "      <td>Serious</td>\n",
       "      <td>16-08-2019</td>\n",
       "      <td>51.495478</td>\n",
       "      <td>Daylight</td>\n",
       "      <td>Kensington and Chelsea</td>\n",
       "      <td>-0.202731</td>\n",
       "      <td>1</td>\n",
       "      <td>4</td>\n",
       "      <td>Dry</td>\n",
       "      <td>Single carriageway</td>\n",
       "      <td>Urban</td>\n",
       "      <td>Fine no high winds</td>\n",
       "      <td>Bus or coach (17 or more pass seats)</td>\n",
       "    </tr>\n",
       "    <tr>\n",
       "      <th>4</th>\n",
       "      <td>200701BS66837</td>\n",
       "      <td>Slight</td>\n",
       "      <td>3/9/2019</td>\n",
       "      <td>51.488576</td>\n",
       "      <td>Darkness - lights lit</td>\n",
       "      <td>Kensington and Chelsea</td>\n",
       "      <td>-0.192487</td>\n",
       "      <td>1</td>\n",
       "      <td>2</td>\n",
       "      <td>Dry</td>\n",
       "      <td>NaN</td>\n",
       "      <td>Urban</td>\n",
       "      <td>NaN</td>\n",
       "      <td>Other vehicle</td>\n",
       "    </tr>\n",
       "    <tr>\n",
       "      <th>...</th>\n",
       "      <td>...</td>\n",
       "      <td>...</td>\n",
       "      <td>...</td>\n",
       "      <td>...</td>\n",
       "      <td>...</td>\n",
       "      <td>...</td>\n",
       "      <td>...</td>\n",
       "      <td>...</td>\n",
       "      <td>...</td>\n",
       "      <td>...</td>\n",
       "      <td>...</td>\n",
       "      <td>...</td>\n",
       "      <td>...</td>\n",
       "      <td>...</td>\n",
       "    </tr>\n",
       "    <tr>\n",
       "      <th>660674</th>\n",
       "      <td>201091NM01760</td>\n",
       "      <td>Slight</td>\n",
       "      <td>18-02-2022</td>\n",
       "      <td>57.374005</td>\n",
       "      <td>Daylight</td>\n",
       "      <td>Highland</td>\n",
       "      <td>-3.467828</td>\n",
       "      <td>2</td>\n",
       "      <td>1</td>\n",
       "      <td>Dry</td>\n",
       "      <td>Single carriageway</td>\n",
       "      <td>Rural</td>\n",
       "      <td>Fine no high winds</td>\n",
       "      <td>Car</td>\n",
       "    </tr>\n",
       "    <tr>\n",
       "      <th>660675</th>\n",
       "      <td>201091NM01881</td>\n",
       "      <td>Slight</td>\n",
       "      <td>21-02-2022</td>\n",
       "      <td>57.232273</td>\n",
       "      <td>Darkness - no lighting</td>\n",
       "      <td>Highland</td>\n",
       "      <td>-3.809281</td>\n",
       "      <td>1</td>\n",
       "      <td>1</td>\n",
       "      <td>Frost or ice</td>\n",
       "      <td>Single carriageway</td>\n",
       "      <td>Rural</td>\n",
       "      <td>Fine no high winds</td>\n",
       "      <td>Car</td>\n",
       "    </tr>\n",
       "    <tr>\n",
       "      <th>660676</th>\n",
       "      <td>201091NM01935</td>\n",
       "      <td>Slight</td>\n",
       "      <td>23-02-2022</td>\n",
       "      <td>57.585044</td>\n",
       "      <td>Daylight</td>\n",
       "      <td>Highland</td>\n",
       "      <td>-3.862727</td>\n",
       "      <td>1</td>\n",
       "      <td>3</td>\n",
       "      <td>Frost or ice</td>\n",
       "      <td>Single carriageway</td>\n",
       "      <td>Rural</td>\n",
       "      <td>Fine no high winds</td>\n",
       "      <td>Car</td>\n",
       "    </tr>\n",
       "    <tr>\n",
       "      <th>660677</th>\n",
       "      <td>201091NM01964</td>\n",
       "      <td>Serious</td>\n",
       "      <td>23-02-2022</td>\n",
       "      <td>57.214898</td>\n",
       "      <td>Darkness - no lighting</td>\n",
       "      <td>Highland</td>\n",
       "      <td>-3.823997</td>\n",
       "      <td>1</td>\n",
       "      <td>2</td>\n",
       "      <td>Wet or damp</td>\n",
       "      <td>Single carriageway</td>\n",
       "      <td>Rural</td>\n",
       "      <td>Fine no high winds</td>\n",
       "      <td>Motorcycle over 500cc</td>\n",
       "    </tr>\n",
       "    <tr>\n",
       "      <th>660678</th>\n",
       "      <td>201091NM02142</td>\n",
       "      <td>Serious</td>\n",
       "      <td>28-02-2022</td>\n",
       "      <td>57.575210</td>\n",
       "      <td>Daylight</td>\n",
       "      <td>Highland</td>\n",
       "      <td>-3.895673</td>\n",
       "      <td>1</td>\n",
       "      <td>1</td>\n",
       "      <td>Wet or damp</td>\n",
       "      <td>Dual carriageway</td>\n",
       "      <td>Rural</td>\n",
       "      <td>Snowing no high winds</td>\n",
       "      <td>Car</td>\n",
       "    </tr>\n",
       "  </tbody>\n",
       "</table>\n",
       "<p>660679 rows × 14 columns</p>\n",
       "</div>"
      ],
      "text/plain": [
       "                Index Accident_Severity Accident Date   Latitude  \\\n",
       "0       200701BS64157           Serious      5/6/2019  51.506187   \n",
       "1       200701BS65737           Serious      2/7/2019  51.495029   \n",
       "2       200701BS66127           Serious    26-08-2019  51.517715   \n",
       "3       200701BS66128           Serious    16-08-2019  51.495478   \n",
       "4       200701BS66837            Slight      3/9/2019  51.488576   \n",
       "...               ...               ...           ...        ...   \n",
       "660674  201091NM01760            Slight    18-02-2022  57.374005   \n",
       "660675  201091NM01881            Slight    21-02-2022  57.232273   \n",
       "660676  201091NM01935            Slight    23-02-2022  57.585044   \n",
       "660677  201091NM01964           Serious    23-02-2022  57.214898   \n",
       "660678  201091NM02142           Serious    28-02-2022  57.575210   \n",
       "\n",
       "                   Light_Conditions           District Area  Longitude  \\\n",
       "0             Darkness - lights lit  Kensington and Chelsea  -0.209082   \n",
       "1                          Daylight  Kensington and Chelsea  -0.173647   \n",
       "2       Darkness - lighting unknown  Kensington and Chelsea  -0.210215   \n",
       "3                          Daylight  Kensington and Chelsea  -0.202731   \n",
       "4             Darkness - lights lit  Kensington and Chelsea  -0.192487   \n",
       "...                             ...                     ...        ...   \n",
       "660674                     Daylight                Highland  -3.467828   \n",
       "660675       Darkness - no lighting                Highland  -3.809281   \n",
       "660676                     Daylight                Highland  -3.862727   \n",
       "660677       Darkness - no lighting                Highland  -3.823997   \n",
       "660678                     Daylight                Highland  -3.895673   \n",
       "\n",
       "        Number_of_Casualties  Number_of_Vehicles Road_Surface_Conditions  \\\n",
       "0                          1                   2                     Dry   \n",
       "1                          1                   2             Wet or damp   \n",
       "2                          1                   3                     Dry   \n",
       "3                          1                   4                     Dry   \n",
       "4                          1                   2                     Dry   \n",
       "...                      ...                 ...                     ...   \n",
       "660674                     2                   1                     Dry   \n",
       "660675                     1                   1            Frost or ice   \n",
       "660676                     1                   3            Frost or ice   \n",
       "660677                     1                   2             Wet or damp   \n",
       "660678                     1                   1             Wet or damp   \n",
       "\n",
       "                 Road_Type Urban_or_Rural_Area     Weather_Conditions  \\\n",
       "0       Single carriageway               Urban     Fine no high winds   \n",
       "1       Single carriageway               Urban  Raining no high winds   \n",
       "2                      NaN               Urban                    NaN   \n",
       "3       Single carriageway               Urban     Fine no high winds   \n",
       "4                      NaN               Urban                    NaN   \n",
       "...                    ...                 ...                    ...   \n",
       "660674  Single carriageway               Rural     Fine no high winds   \n",
       "660675  Single carriageway               Rural     Fine no high winds   \n",
       "660676  Single carriageway               Rural     Fine no high winds   \n",
       "660677  Single carriageway               Rural     Fine no high winds   \n",
       "660678    Dual carriageway               Rural  Snowing no high winds   \n",
       "\n",
       "                                Vehicle_Type  \n",
       "0                                        Car  \n",
       "1                                        Car  \n",
       "2                      Taxi/Private hire car  \n",
       "3       Bus or coach (17 or more pass seats)  \n",
       "4                              Other vehicle  \n",
       "...                                      ...  \n",
       "660674                                   Car  \n",
       "660675                                   Car  \n",
       "660676                                   Car  \n",
       "660677                 Motorcycle over 500cc  \n",
       "660678                                   Car  \n",
       "\n",
       "[660679 rows x 14 columns]"
      ]
     },
     "execution_count": 3,
     "metadata": {},
     "output_type": "execute_result"
    }
   ],
   "source": [
    "UK_Accidents"
   ]
  },
  {
   "cell_type": "markdown",
   "id": "eacdd6ba-a236-4005-85b5-753d34f4b75b",
   "metadata": {},
   "source": [
    "<h2>CHECKING AVAILABLE COLUMNS</h2>\n",
    "<hr>"
   ]
  },
  {
   "cell_type": "code",
   "execution_count": 4,
   "id": "117c4e41-b8f4-4bf3-9b49-37dbcde9b20a",
   "metadata": {},
   "outputs": [
    {
     "name": "stdout",
     "output_type": "stream",
     "text": [
      "<class 'pandas.core.frame.DataFrame'>\n",
      "RangeIndex: 660679 entries, 0 to 660678\n",
      "Data columns (total 14 columns):\n",
      " #   Column                   Non-Null Count   Dtype  \n",
      "---  ------                   --------------   -----  \n",
      " 0   Index                    660679 non-null  object \n",
      " 1   Accident_Severity        660679 non-null  object \n",
      " 2   Accident Date            660679 non-null  object \n",
      " 3   Latitude                 660654 non-null  float64\n",
      " 4   Light_Conditions         660679 non-null  object \n",
      " 5   District Area            660679 non-null  object \n",
      " 6   Longitude                660653 non-null  float64\n",
      " 7   Number_of_Casualties     660679 non-null  int64  \n",
      " 8   Number_of_Vehicles       660679 non-null  int64  \n",
      " 9   Road_Surface_Conditions  659953 non-null  object \n",
      " 10  Road_Type                656159 non-null  object \n",
      " 11  Urban_or_Rural_Area      660664 non-null  object \n",
      " 12  Weather_Conditions       646551 non-null  object \n",
      " 13  Vehicle_Type             660679 non-null  object \n",
      "dtypes: float64(2), int64(2), object(10)\n",
      "memory usage: 70.6+ MB\n"
     ]
    }
   ],
   "source": [
    "UK_Accidents.info()"
   ]
  },
  {
   "cell_type": "markdown",
   "id": "60d6e26b-f6a4-44cc-af8c-8bfbcb9ae91c",
   "metadata": {},
   "source": [
    "<h2>CHANGING DATA TPYE</h2>\n",
    "<hr>"
   ]
  },
  {
   "cell_type": "code",
   "execution_count": 5,
   "id": "c0459d16-c39a-4dd6-93a4-0df29a960891",
   "metadata": {},
   "outputs": [],
   "source": [
    "UK_Accidents ['Index'] = UK_Accidents ['Index'].astype('category')\n",
    "UK_Accidents ['Accident_Severity'] = UK_Accidents ['Accident_Severity'].astype('category')\n",
    "UK_Accidents ['Accident Date'] = UK_Accidents ['Accident Date'].astype('category')\n",
    "UK_Accidents ['Light_Conditions'] = UK_Accidents ['Light_Conditions'].astype('category')\n",
    "UK_Accidents ['District Area'] = UK_Accidents ['District Area'].astype('category')\n",
    "UK_Accidents ['Road_Surface_Conditions'] = UK_Accidents ['Road_Surface_Conditions'].astype('category')\n",
    "UK_Accidents ['Road_Type'] = UK_Accidents ['Road_Type'].astype('category')\n",
    "UK_Accidents ['Urban_or_Rural_Area'] = UK_Accidents ['Urban_or_Rural_Area'].astype('category')\n",
    "UK_Accidents ['Weather_Conditions'] = UK_Accidents ['Weather_Conditions'].astype('category')\n",
    "UK_Accidents ['Vehicle_Type'] = UK_Accidents ['Vehicle_Type'].astype('category')"
   ]
  },
  {
   "cell_type": "code",
   "execution_count": 6,
   "id": "af1c9472-0639-454b-898b-5477aaffaf4d",
   "metadata": {},
   "outputs": [
    {
     "name": "stdout",
     "output_type": "stream",
     "text": [
      "<class 'pandas.core.frame.DataFrame'>\n",
      "RangeIndex: 660679 entries, 0 to 660678\n",
      "Data columns (total 14 columns):\n",
      " #   Column                   Non-Null Count   Dtype   \n",
      "---  ------                   --------------   -----   \n",
      " 0   Index                    660679 non-null  category\n",
      " 1   Accident_Severity        660679 non-null  category\n",
      " 2   Accident Date            660679 non-null  category\n",
      " 3   Latitude                 660654 non-null  float64 \n",
      " 4   Light_Conditions         660679 non-null  category\n",
      " 5   District Area            660679 non-null  category\n",
      " 6   Longitude                660653 non-null  float64 \n",
      " 7   Number_of_Casualties     660679 non-null  int64   \n",
      " 8   Number_of_Vehicles       660679 non-null  int64   \n",
      " 9   Road_Surface_Conditions  659953 non-null  category\n",
      " 10  Road_Type                656159 non-null  category\n",
      " 11  Urban_or_Rural_Area      660664 non-null  category\n",
      " 12  Weather_Conditions       646551 non-null  category\n",
      " 13  Vehicle_Type             660679 non-null  category\n",
      "dtypes: category(10), float64(2), int64(2)\n",
      "memory usage: 49.0 MB\n"
     ]
    }
   ],
   "source": [
    "UK_Accidents.info()"
   ]
  },
  {
   "cell_type": "markdown",
   "id": "dfd029f6-38be-4ae8-b50a-44a2d9216f58",
   "metadata": {},
   "source": [
    "<h2>CHECKING NULL VALUES</h2>\n",
    "<hr>"
   ]
  },
  {
   "cell_type": "code",
   "execution_count": 7,
   "id": "eaeaa547-d9e0-431c-95fe-ccffc56d4e0f",
   "metadata": {},
   "outputs": [
    {
     "data": {
      "text/plain": [
       "Index                          0\n",
       "Accident_Severity              0\n",
       "Accident Date                  0\n",
       "Latitude                      25\n",
       "Light_Conditions               0\n",
       "District Area                  0\n",
       "Longitude                     26\n",
       "Number_of_Casualties           0\n",
       "Number_of_Vehicles             0\n",
       "Road_Surface_Conditions      726\n",
       "Road_Type                   4520\n",
       "Urban_or_Rural_Area           15\n",
       "Weather_Conditions         14128\n",
       "Vehicle_Type                   0\n",
       "dtype: int64"
      ]
     },
     "execution_count": 7,
     "metadata": {},
     "output_type": "execute_result"
    }
   ],
   "source": [
    "UK_Accidents.isnull().sum()"
   ]
  },
  {
   "cell_type": "markdown",
   "id": "018689b7-13a8-4e38-bfef-a8443f01e8d8",
   "metadata": {},
   "source": [
    "<h2>FILLING UP NULL VALUES</h2>\n",
    "<hr>"
   ]
  },
  {
   "cell_type": "code",
   "execution_count": 8,
   "id": "e127675d-5347-41cf-9f9f-5c676593b621",
   "metadata": {},
   "outputs": [
    {
     "data": {
      "text/plain": [
       "np.float64(52.553865761110956)"
      ]
     },
     "execution_count": 8,
     "metadata": {},
     "output_type": "execute_result"
    }
   ],
   "source": [
    "UK_Accidents ['Latitude'].mean()"
   ]
  },
  {
   "cell_type": "code",
   "execution_count": 9,
   "id": "05ccf265-c275-4aa3-a71b-491ddfa5b32e",
   "metadata": {},
   "outputs": [],
   "source": [
    "UK_Accidents['Latitude'] = UK_Accidents['Latitude'].fillna(UK_Accidents['Latitude'].mean())"
   ]
  },
  {
   "cell_type": "code",
   "execution_count": 10,
   "id": "86acbf53-d254-42fd-b0d0-046555291a2e",
   "metadata": {},
   "outputs": [
    {
     "data": {
      "text/plain": [
       "np.float64(-1.431210368502073)"
      ]
     },
     "execution_count": 10,
     "metadata": {},
     "output_type": "execute_result"
    }
   ],
   "source": [
    "UK_Accidents ['Longitude'].mean()"
   ]
  },
  {
   "cell_type": "code",
   "execution_count": 11,
   "id": "2116e707-0e27-4330-801e-89f5937a658f",
   "metadata": {},
   "outputs": [],
   "source": [
    "UK_Accidents['Longitude'] = UK_Accidents['Longitude'].fillna(UK_Accidents['Longitude'].mean())"
   ]
  },
  {
   "cell_type": "code",
   "execution_count": 12,
   "id": "73b977dc-8442-4d49-adaf-e0bb42a46de6",
   "metadata": {},
   "outputs": [
    {
     "data": {
      "text/plain": [
       "0    Dry\n",
       "Name: Road_Surface_Conditions, dtype: category\n",
       "Categories (5, object): ['Dry', 'Flood over 3cm. deep', 'Frost or ice', 'Snow', 'Wet or damp']"
      ]
     },
     "execution_count": 12,
     "metadata": {},
     "output_type": "execute_result"
    }
   ],
   "source": [
    "UK_Accidents['Road_Surface_Conditions'].mode()"
   ]
  },
  {
   "cell_type": "code",
   "execution_count": 13,
   "id": "8bd7cde5-9b38-4747-a980-520edca0b9d2",
   "metadata": {},
   "outputs": [],
   "source": [
    "UK_Accidents['Road_Surface_Conditions'] = UK_Accidents['Road_Surface_Conditions'].fillna(UK_Accidents['Road_Surface_Conditions'].mode()[0])"
   ]
  },
  {
   "cell_type": "code",
   "execution_count": 14,
   "id": "bac22f64-6514-40ed-83cb-10454bee4e15",
   "metadata": {},
   "outputs": [
    {
     "data": {
      "text/plain": [
       "0    Single carriageway\n",
       "Name: Road_Type, dtype: category\n",
       "Categories (5, object): ['Dual carriageway', 'One way street', 'Roundabout', 'Single carriageway', 'Slip road']"
      ]
     },
     "execution_count": 14,
     "metadata": {},
     "output_type": "execute_result"
    }
   ],
   "source": [
    "UK_Accidents['Road_Type'].mode()"
   ]
  },
  {
   "cell_type": "code",
   "execution_count": 15,
   "id": "a20382ef-773d-4d61-b891-eddc320710db",
   "metadata": {},
   "outputs": [],
   "source": [
    "UK_Accidents['Road_Type'] = UK_Accidents['Road_Type'].fillna(UK_Accidents['Road_Type'].mode()[0])"
   ]
  },
  {
   "cell_type": "code",
   "execution_count": 16,
   "id": "ffef8035-91ea-4fe3-8349-06aae07bd0a7",
   "metadata": {},
   "outputs": [
    {
     "data": {
      "text/plain": [
       "0    Urban\n",
       "Name: Urban_or_Rural_Area, dtype: category\n",
       "Categories (3, object): ['Rural', 'Unallocated', 'Urban']"
      ]
     },
     "execution_count": 16,
     "metadata": {},
     "output_type": "execute_result"
    }
   ],
   "source": [
    "UK_Accidents['Urban_or_Rural_Area'].mode()"
   ]
  },
  {
   "cell_type": "code",
   "execution_count": 17,
   "id": "4e1868f2-002e-498a-9ae3-a00b9183af08",
   "metadata": {},
   "outputs": [],
   "source": [
    "UK_Accidents['Urban_or_Rural_Area'] = UK_Accidents['Urban_or_Rural_Area'].fillna(UK_Accidents['Urban_or_Rural_Area'].mode()[0])"
   ]
  },
  {
   "cell_type": "code",
   "execution_count": 18,
   "id": "fb03f678-0c45-44da-ac1e-5db99d055290",
   "metadata": {},
   "outputs": [
    {
     "data": {
      "text/plain": [
       "0    Fine no high winds\n",
       "Name: Weather_Conditions, dtype: category\n",
       "Categories (8, object): ['Fine + high winds', 'Fine no high winds', 'Fog or mist', 'Other', 'Raining + high winds', 'Raining no high winds', 'Snowing + high winds', 'Snowing no high winds']"
      ]
     },
     "execution_count": 18,
     "metadata": {},
     "output_type": "execute_result"
    }
   ],
   "source": [
    "UK_Accidents['Weather_Conditions'].mode()"
   ]
  },
  {
   "cell_type": "code",
   "execution_count": 19,
   "id": "22093a39-0622-4d6a-aecf-0fd55bc7b7f0",
   "metadata": {},
   "outputs": [],
   "source": [
    "UK_Accidents['Weather_Conditions'] = UK_Accidents['Weather_Conditions'].fillna(UK_Accidents['Weather_Conditions'].mode()[0])"
   ]
  },
  {
   "cell_type": "code",
   "execution_count": 20,
   "id": "26ac5881-8f4c-47c6-956a-d6db4ec93ed6",
   "metadata": {},
   "outputs": [
    {
     "data": {
      "text/plain": [
       "Index                      0\n",
       "Accident_Severity          0\n",
       "Accident Date              0\n",
       "Latitude                   0\n",
       "Light_Conditions           0\n",
       "District Area              0\n",
       "Longitude                  0\n",
       "Number_of_Casualties       0\n",
       "Number_of_Vehicles         0\n",
       "Road_Surface_Conditions    0\n",
       "Road_Type                  0\n",
       "Urban_or_Rural_Area        0\n",
       "Weather_Conditions         0\n",
       "Vehicle_Type               0\n",
       "dtype: int64"
      ]
     },
     "execution_count": 20,
     "metadata": {},
     "output_type": "execute_result"
    }
   ],
   "source": [
    "UK_Accidents.isnull().sum()"
   ]
  },
  {
   "cell_type": "markdown",
   "id": "90ba3663-e1f4-4746-a656-d7eb6d2a2ab6",
   "metadata": {},
   "source": [
    "<h2>CLEARING ANY INCONSISTENCIES WITH THE DATASET</h2>"
   ]
  },
  {
   "cell_type": "code",
   "execution_count": 21,
   "id": "838afc15-3aa8-4c3d-832d-6582defe1c12",
   "metadata": {},
   "outputs": [],
   "source": [
    "UK_Accidents['Accident Date'] = UK_Accidents['Accident Date'].str.strip()\n",
    "UK_Accidents['Accident Date'] = UK_Accidents['Accident Date'].astype('str')\n",
    "UK_Accidents['Accident Date'] = UK_Accidents['Accident Date'].str.replace('/','-')"
   ]
  },
  {
   "cell_type": "code",
   "execution_count": 22,
   "id": "94149520-d51d-493a-b0b9-6241ddde8845",
   "metadata": {},
   "outputs": [],
   "source": [
    "UK_Accidents['Accident Date'] = pd.to_datetime(UK_Accidents['Accident Date'], dayfirst = True, errors = 'coerce')"
   ]
  },
  {
   "cell_type": "code",
   "execution_count": 23,
   "id": "ad38a2ae-7376-4789-80e8-8235aa029623",
   "metadata": {},
   "outputs": [
    {
     "data": {
      "text/plain": [
       "Index                            category\n",
       "Accident_Severity                category\n",
       "Accident Date              datetime64[ns]\n",
       "Latitude                          float64\n",
       "Light_Conditions                 category\n",
       "District Area                    category\n",
       "Longitude                         float64\n",
       "Number_of_Casualties                int64\n",
       "Number_of_Vehicles                  int64\n",
       "Road_Surface_Conditions          category\n",
       "Road_Type                        category\n",
       "Urban_or_Rural_Area              category\n",
       "Weather_Conditions               category\n",
       "Vehicle_Type                     category\n",
       "dtype: object"
      ]
     },
     "execution_count": 23,
     "metadata": {},
     "output_type": "execute_result"
    }
   ],
   "source": [
    "UK_Accidents.dtypes"
   ]
  },
  {
   "cell_type": "markdown",
   "id": "a7da5893-d395-46d2-b097-502a323f4b3f",
   "metadata": {},
   "source": [
    "<h2>EXTRACTING DATE INFORMATION USING PANDAS DATE TIME</h2>"
   ]
  },
  {
   "cell_type": "code",
   "execution_count": 24,
   "id": "c82cec2a-c9e5-4fb8-b201-91c5515b738d",
   "metadata": {},
   "outputs": [],
   "source": [
    "UK_Accidents['Year'] = UK_Accidents['Accident Date'].dt.year\n",
    "UK_Accidents['Month'] = UK_Accidents['Accident Date'].dt.month\n",
    "UK_Accidents['Day'] = UK_Accidents['Accident Date'].dt.day\n",
    "UK_Accidents['Day_Of_Week'] = UK_Accidents['Accident Date'].dt.dayofweek"
   ]
  },
  {
   "cell_type": "code",
   "execution_count": 25,
   "id": "41214d37-8003-4bf0-bc25-bec5054f636b",
   "metadata": {},
   "outputs": [
    {
     "data": {
      "text/html": [
       "<div>\n",
       "<style scoped>\n",
       "    .dataframe tbody tr th:only-of-type {\n",
       "        vertical-align: middle;\n",
       "    }\n",
       "\n",
       "    .dataframe tbody tr th {\n",
       "        vertical-align: top;\n",
       "    }\n",
       "\n",
       "    .dataframe thead th {\n",
       "        text-align: right;\n",
       "    }\n",
       "</style>\n",
       "<table border=\"1\" class=\"dataframe\">\n",
       "  <thead>\n",
       "    <tr style=\"text-align: right;\">\n",
       "      <th></th>\n",
       "      <th>Index</th>\n",
       "      <th>Accident_Severity</th>\n",
       "      <th>Accident Date</th>\n",
       "      <th>Latitude</th>\n",
       "      <th>Light_Conditions</th>\n",
       "      <th>District Area</th>\n",
       "      <th>Longitude</th>\n",
       "      <th>Number_of_Casualties</th>\n",
       "      <th>Number_of_Vehicles</th>\n",
       "      <th>Road_Surface_Conditions</th>\n",
       "      <th>Road_Type</th>\n",
       "      <th>Urban_or_Rural_Area</th>\n",
       "      <th>Weather_Conditions</th>\n",
       "      <th>Vehicle_Type</th>\n",
       "      <th>Year</th>\n",
       "      <th>Month</th>\n",
       "      <th>Day</th>\n",
       "      <th>Day_Of_Week</th>\n",
       "    </tr>\n",
       "  </thead>\n",
       "  <tbody>\n",
       "    <tr>\n",
       "      <th>0</th>\n",
       "      <td>200701BS64157</td>\n",
       "      <td>Serious</td>\n",
       "      <td>2019-06-05</td>\n",
       "      <td>51.506187</td>\n",
       "      <td>Darkness - lights lit</td>\n",
       "      <td>Kensington and Chelsea</td>\n",
       "      <td>-0.209082</td>\n",
       "      <td>1</td>\n",
       "      <td>2</td>\n",
       "      <td>Dry</td>\n",
       "      <td>Single carriageway</td>\n",
       "      <td>Urban</td>\n",
       "      <td>Fine no high winds</td>\n",
       "      <td>Car</td>\n",
       "      <td>2019</td>\n",
       "      <td>6</td>\n",
       "      <td>5</td>\n",
       "      <td>2</td>\n",
       "    </tr>\n",
       "    <tr>\n",
       "      <th>1</th>\n",
       "      <td>200701BS65737</td>\n",
       "      <td>Serious</td>\n",
       "      <td>2019-07-02</td>\n",
       "      <td>51.495029</td>\n",
       "      <td>Daylight</td>\n",
       "      <td>Kensington and Chelsea</td>\n",
       "      <td>-0.173647</td>\n",
       "      <td>1</td>\n",
       "      <td>2</td>\n",
       "      <td>Wet or damp</td>\n",
       "      <td>Single carriageway</td>\n",
       "      <td>Urban</td>\n",
       "      <td>Raining no high winds</td>\n",
       "      <td>Car</td>\n",
       "      <td>2019</td>\n",
       "      <td>7</td>\n",
       "      <td>2</td>\n",
       "      <td>1</td>\n",
       "    </tr>\n",
       "    <tr>\n",
       "      <th>2</th>\n",
       "      <td>200701BS66127</td>\n",
       "      <td>Serious</td>\n",
       "      <td>2019-08-26</td>\n",
       "      <td>51.517715</td>\n",
       "      <td>Darkness - lighting unknown</td>\n",
       "      <td>Kensington and Chelsea</td>\n",
       "      <td>-0.210215</td>\n",
       "      <td>1</td>\n",
       "      <td>3</td>\n",
       "      <td>Dry</td>\n",
       "      <td>Single carriageway</td>\n",
       "      <td>Urban</td>\n",
       "      <td>Fine no high winds</td>\n",
       "      <td>Taxi/Private hire car</td>\n",
       "      <td>2019</td>\n",
       "      <td>8</td>\n",
       "      <td>26</td>\n",
       "      <td>0</td>\n",
       "    </tr>\n",
       "    <tr>\n",
       "      <th>3</th>\n",
       "      <td>200701BS66128</td>\n",
       "      <td>Serious</td>\n",
       "      <td>2019-08-16</td>\n",
       "      <td>51.495478</td>\n",
       "      <td>Daylight</td>\n",
       "      <td>Kensington and Chelsea</td>\n",
       "      <td>-0.202731</td>\n",
       "      <td>1</td>\n",
       "      <td>4</td>\n",
       "      <td>Dry</td>\n",
       "      <td>Single carriageway</td>\n",
       "      <td>Urban</td>\n",
       "      <td>Fine no high winds</td>\n",
       "      <td>Bus or coach (17 or more pass seats)</td>\n",
       "      <td>2019</td>\n",
       "      <td>8</td>\n",
       "      <td>16</td>\n",
       "      <td>4</td>\n",
       "    </tr>\n",
       "    <tr>\n",
       "      <th>4</th>\n",
       "      <td>200701BS66837</td>\n",
       "      <td>Slight</td>\n",
       "      <td>2019-09-03</td>\n",
       "      <td>51.488576</td>\n",
       "      <td>Darkness - lights lit</td>\n",
       "      <td>Kensington and Chelsea</td>\n",
       "      <td>-0.192487</td>\n",
       "      <td>1</td>\n",
       "      <td>2</td>\n",
       "      <td>Dry</td>\n",
       "      <td>Single carriageway</td>\n",
       "      <td>Urban</td>\n",
       "      <td>Fine no high winds</td>\n",
       "      <td>Other vehicle</td>\n",
       "      <td>2019</td>\n",
       "      <td>9</td>\n",
       "      <td>3</td>\n",
       "      <td>1</td>\n",
       "    </tr>\n",
       "    <tr>\n",
       "      <th>...</th>\n",
       "      <td>...</td>\n",
       "      <td>...</td>\n",
       "      <td>...</td>\n",
       "      <td>...</td>\n",
       "      <td>...</td>\n",
       "      <td>...</td>\n",
       "      <td>...</td>\n",
       "      <td>...</td>\n",
       "      <td>...</td>\n",
       "      <td>...</td>\n",
       "      <td>...</td>\n",
       "      <td>...</td>\n",
       "      <td>...</td>\n",
       "      <td>...</td>\n",
       "      <td>...</td>\n",
       "      <td>...</td>\n",
       "      <td>...</td>\n",
       "      <td>...</td>\n",
       "    </tr>\n",
       "    <tr>\n",
       "      <th>660674</th>\n",
       "      <td>201091NM01760</td>\n",
       "      <td>Slight</td>\n",
       "      <td>2022-02-18</td>\n",
       "      <td>57.374005</td>\n",
       "      <td>Daylight</td>\n",
       "      <td>Highland</td>\n",
       "      <td>-3.467828</td>\n",
       "      <td>2</td>\n",
       "      <td>1</td>\n",
       "      <td>Dry</td>\n",
       "      <td>Single carriageway</td>\n",
       "      <td>Rural</td>\n",
       "      <td>Fine no high winds</td>\n",
       "      <td>Car</td>\n",
       "      <td>2022</td>\n",
       "      <td>2</td>\n",
       "      <td>18</td>\n",
       "      <td>4</td>\n",
       "    </tr>\n",
       "    <tr>\n",
       "      <th>660675</th>\n",
       "      <td>201091NM01881</td>\n",
       "      <td>Slight</td>\n",
       "      <td>2022-02-21</td>\n",
       "      <td>57.232273</td>\n",
       "      <td>Darkness - no lighting</td>\n",
       "      <td>Highland</td>\n",
       "      <td>-3.809281</td>\n",
       "      <td>1</td>\n",
       "      <td>1</td>\n",
       "      <td>Frost or ice</td>\n",
       "      <td>Single carriageway</td>\n",
       "      <td>Rural</td>\n",
       "      <td>Fine no high winds</td>\n",
       "      <td>Car</td>\n",
       "      <td>2022</td>\n",
       "      <td>2</td>\n",
       "      <td>21</td>\n",
       "      <td>0</td>\n",
       "    </tr>\n",
       "    <tr>\n",
       "      <th>660676</th>\n",
       "      <td>201091NM01935</td>\n",
       "      <td>Slight</td>\n",
       "      <td>2022-02-23</td>\n",
       "      <td>57.585044</td>\n",
       "      <td>Daylight</td>\n",
       "      <td>Highland</td>\n",
       "      <td>-3.862727</td>\n",
       "      <td>1</td>\n",
       "      <td>3</td>\n",
       "      <td>Frost or ice</td>\n",
       "      <td>Single carriageway</td>\n",
       "      <td>Rural</td>\n",
       "      <td>Fine no high winds</td>\n",
       "      <td>Car</td>\n",
       "      <td>2022</td>\n",
       "      <td>2</td>\n",
       "      <td>23</td>\n",
       "      <td>2</td>\n",
       "    </tr>\n",
       "    <tr>\n",
       "      <th>660677</th>\n",
       "      <td>201091NM01964</td>\n",
       "      <td>Serious</td>\n",
       "      <td>2022-02-23</td>\n",
       "      <td>57.214898</td>\n",
       "      <td>Darkness - no lighting</td>\n",
       "      <td>Highland</td>\n",
       "      <td>-3.823997</td>\n",
       "      <td>1</td>\n",
       "      <td>2</td>\n",
       "      <td>Wet or damp</td>\n",
       "      <td>Single carriageway</td>\n",
       "      <td>Rural</td>\n",
       "      <td>Fine no high winds</td>\n",
       "      <td>Motorcycle over 500cc</td>\n",
       "      <td>2022</td>\n",
       "      <td>2</td>\n",
       "      <td>23</td>\n",
       "      <td>2</td>\n",
       "    </tr>\n",
       "    <tr>\n",
       "      <th>660678</th>\n",
       "      <td>201091NM02142</td>\n",
       "      <td>Serious</td>\n",
       "      <td>2022-02-28</td>\n",
       "      <td>57.575210</td>\n",
       "      <td>Daylight</td>\n",
       "      <td>Highland</td>\n",
       "      <td>-3.895673</td>\n",
       "      <td>1</td>\n",
       "      <td>1</td>\n",
       "      <td>Wet or damp</td>\n",
       "      <td>Dual carriageway</td>\n",
       "      <td>Rural</td>\n",
       "      <td>Snowing no high winds</td>\n",
       "      <td>Car</td>\n",
       "      <td>2022</td>\n",
       "      <td>2</td>\n",
       "      <td>28</td>\n",
       "      <td>0</td>\n",
       "    </tr>\n",
       "  </tbody>\n",
       "</table>\n",
       "<p>660679 rows × 18 columns</p>\n",
       "</div>"
      ],
      "text/plain": [
       "                Index Accident_Severity Accident Date   Latitude  \\\n",
       "0       200701BS64157           Serious    2019-06-05  51.506187   \n",
       "1       200701BS65737           Serious    2019-07-02  51.495029   \n",
       "2       200701BS66127           Serious    2019-08-26  51.517715   \n",
       "3       200701BS66128           Serious    2019-08-16  51.495478   \n",
       "4       200701BS66837            Slight    2019-09-03  51.488576   \n",
       "...               ...               ...           ...        ...   \n",
       "660674  201091NM01760            Slight    2022-02-18  57.374005   \n",
       "660675  201091NM01881            Slight    2022-02-21  57.232273   \n",
       "660676  201091NM01935            Slight    2022-02-23  57.585044   \n",
       "660677  201091NM01964           Serious    2022-02-23  57.214898   \n",
       "660678  201091NM02142           Serious    2022-02-28  57.575210   \n",
       "\n",
       "                   Light_Conditions           District Area  Longitude  \\\n",
       "0             Darkness - lights lit  Kensington and Chelsea  -0.209082   \n",
       "1                          Daylight  Kensington and Chelsea  -0.173647   \n",
       "2       Darkness - lighting unknown  Kensington and Chelsea  -0.210215   \n",
       "3                          Daylight  Kensington and Chelsea  -0.202731   \n",
       "4             Darkness - lights lit  Kensington and Chelsea  -0.192487   \n",
       "...                             ...                     ...        ...   \n",
       "660674                     Daylight                Highland  -3.467828   \n",
       "660675       Darkness - no lighting                Highland  -3.809281   \n",
       "660676                     Daylight                Highland  -3.862727   \n",
       "660677       Darkness - no lighting                Highland  -3.823997   \n",
       "660678                     Daylight                Highland  -3.895673   \n",
       "\n",
       "        Number_of_Casualties  Number_of_Vehicles Road_Surface_Conditions  \\\n",
       "0                          1                   2                     Dry   \n",
       "1                          1                   2             Wet or damp   \n",
       "2                          1                   3                     Dry   \n",
       "3                          1                   4                     Dry   \n",
       "4                          1                   2                     Dry   \n",
       "...                      ...                 ...                     ...   \n",
       "660674                     2                   1                     Dry   \n",
       "660675                     1                   1            Frost or ice   \n",
       "660676                     1                   3            Frost or ice   \n",
       "660677                     1                   2             Wet or damp   \n",
       "660678                     1                   1             Wet or damp   \n",
       "\n",
       "                 Road_Type Urban_or_Rural_Area     Weather_Conditions  \\\n",
       "0       Single carriageway               Urban     Fine no high winds   \n",
       "1       Single carriageway               Urban  Raining no high winds   \n",
       "2       Single carriageway               Urban     Fine no high winds   \n",
       "3       Single carriageway               Urban     Fine no high winds   \n",
       "4       Single carriageway               Urban     Fine no high winds   \n",
       "...                    ...                 ...                    ...   \n",
       "660674  Single carriageway               Rural     Fine no high winds   \n",
       "660675  Single carriageway               Rural     Fine no high winds   \n",
       "660676  Single carriageway               Rural     Fine no high winds   \n",
       "660677  Single carriageway               Rural     Fine no high winds   \n",
       "660678    Dual carriageway               Rural  Snowing no high winds   \n",
       "\n",
       "                                Vehicle_Type  Year  Month  Day  Day_Of_Week  \n",
       "0                                        Car  2019      6    5            2  \n",
       "1                                        Car  2019      7    2            1  \n",
       "2                      Taxi/Private hire car  2019      8   26            0  \n",
       "3       Bus or coach (17 or more pass seats)  2019      8   16            4  \n",
       "4                              Other vehicle  2019      9    3            1  \n",
       "...                                      ...   ...    ...  ...          ...  \n",
       "660674                                   Car  2022      2   18            4  \n",
       "660675                                   Car  2022      2   21            0  \n",
       "660676                                   Car  2022      2   23            2  \n",
       "660677                 Motorcycle over 500cc  2022      2   23            2  \n",
       "660678                                   Car  2022      2   28            0  \n",
       "\n",
       "[660679 rows x 18 columns]"
      ]
     },
     "execution_count": 25,
     "metadata": {},
     "output_type": "execute_result"
    }
   ],
   "source": [
    "UK_Accidents"
   ]
  },
  {
   "cell_type": "code",
   "execution_count": null,
   "id": "9d9f425b-7539-4d3d-a6dc-b325ba3e8a35",
   "metadata": {},
   "outputs": [],
   "source": []
  },
  {
   "cell_type": "markdown",
   "id": "dd5e0fcb-79c4-4b7c-ad55-2c403b8d8b8d",
   "metadata": {},
   "source": [
    "<center><h1>EXPLANATORY DATA ANALYSIS</h1><center>\n",
    "<hr>"
   ]
  },
  {
   "cell_type": "markdown",
   "id": "ee43e030-b31b-4d23-b569-4a17d1b8590e",
   "metadata": {},
   "source": [
    "<h3>Question 1. Is there a correlation between Latitude and Number of Casualties?</h3>"
   ]
  },
  {
   "cell_type": "code",
   "execution_count": 26,
   "id": "4b1f4de2-48a3-48f0-b4cd-53e6460470ec",
   "metadata": {},
   "outputs": [
    {
     "data": {
      "text/plain": [
       "np.float64(0.032200686625906395)"
      ]
     },
     "execution_count": 26,
     "metadata": {},
     "output_type": "execute_result"
    }
   ],
   "source": [
    "LaNC_Corr = UK_Accidents['Latitude'].corr(UK_Accidents['Number_of_Casualties'])\n",
    "LaNC_Corr"
   ]
  },
  {
   "cell_type": "markdown",
   "id": "58aabea1-e334-40d7-aba9-e079b3714543",
   "metadata": {},
   "source": [
    "<h4>Insight 1</h4>\n",
    "<p>Shown above is the correlation between Latitude, which is use to determine the exact location of the incident and the Number of Casualties in the accident. In this insight, it clearly shows that the correlation is weak with 0.03, between the Latitude or exact location of the incident and Number of Casualties.</p>\n",
    "<hr>"
   ]
  },
  {
   "cell_type": "markdown",
   "id": "85817729-a0ed-4f36-928e-a6f91ff20ecb",
   "metadata": {},
   "source": [
    "<h3>Question 2. What type of vehicles are most commonly involved in accidents that result to fatal injuries?</h3>"
   ]
  },
  {
   "cell_type": "code",
   "execution_count": 27,
   "id": "d7a1587a-fc73-4c7e-916e-81289b307ca6",
   "metadata": {},
   "outputs": [
    {
     "data": {
      "text/plain": [
       "Vehicle_Type                           Urban_or_Rural_Area\n",
       "Agricultural vehicle                   Rural                    14\n",
       "                                       Unallocated               0\n",
       "                                       Urban                     7\n",
       "Bus or coach (17 or more pass seats)   Rural                   213\n",
       "                                       Unallocated               0\n",
       "                                       Urban                   112\n",
       "Car                                    Rural                  4285\n",
       "                                       Unallocated               0\n",
       "                                       Urban                  2292\n",
       "Data missing or out of range           Rural                     0\n",
       "                                       Unallocated               0\n",
       "                                       Urban                     0\n",
       "Goods 7.5 tonnes mgw and over          Rural                   139\n",
       "                                       Unallocated               0\n",
       "                                       Urban                    77\n",
       "Goods over 3.5t. and under 7.5t        Rural                    41\n",
       "                                       Unallocated               0\n",
       "                                       Urban                    26\n",
       "Minibus (8 - 16 passenger seats)       Rural                    17\n",
       "                                       Unallocated               0\n",
       "                                       Urban                    12\n",
       "Motorcycle 125cc and under             Rural                   101\n",
       "                                       Unallocated               0\n",
       "                                       Urban                    88\n",
       "Motorcycle 50cc and under              Rural                    52\n",
       "                                       Unallocated               0\n",
       "                                       Urban                    43\n",
       "Motorcycle over 125cc and up to 500cc  Rural                    64\n",
       "                                       Unallocated               0\n",
       "                                       Urban                    41\n",
       "Motorcycle over 500cc                  Rural                   222\n",
       "                                       Unallocated               0\n",
       "                                       Urban                   117\n",
       "Other vehicle                          Rural                    44\n",
       "                                       Unallocated               0\n",
       "                                       Urban                    26\n",
       "Pedal cycle                            Rural                     4\n",
       "                                       Unallocated               0\n",
       "                                       Urban                     2\n",
       "Ridden horse                           Rural                     0\n",
       "                                       Unallocated               0\n",
       "                                       Urban                     0\n",
       "Taxi/Private hire car                  Rural                    99\n",
       "                                       Unallocated               0\n",
       "                                       Urban                    56\n",
       "Van / Goods 3.5 tonnes mgw or under    Rural                   306\n",
       "                                       Unallocated               0\n",
       "                                       Urban                   161\n",
       "dtype: int64"
      ]
     },
     "execution_count": 27,
     "metadata": {},
     "output_type": "execute_result"
    }
   ],
   "source": [
    "UK_AccSev = UK_Accidents[UK_Accidents['Accident_Severity'] == 'Fatal'].groupby(['Vehicle_Type', 'Urban_or_Rural_Area']).size()\n",
    "UK_AccSev"
   ]
  },
  {
   "cell_type": "markdown",
   "id": "e3ea0bda-1a58-464c-a556-a5122d43d382",
   "metadata": {},
   "source": [
    "<h4>Insight 2</h4>\n",
    "<p>This insight shows the types of vehicles involved in accidents across rural and urban areas. Cars (6,577), vans (467), and motorcycles over 500cc (339) are the most commonly used vehicles in incidents that resulted in fatal severity.</p>\n",
    "<hr>"
   ]
  },
  {
   "cell_type": "markdown",
   "id": "7422859f-72f9-4392-97fa-dc8d671a6391",
   "metadata": {},
   "source": [
    "<h3>Question 3. What is the sum of fatal accident severity cases in Highland district?</h3>"
   ]
  },
  {
   "cell_type": "code",
   "execution_count": 28,
   "id": "dfc49adb-81ad-4ce0-b204-0c70102c9f67",
   "metadata": {},
   "outputs": [
    {
     "data": {
      "text/plain": [
       "np.int64(88)"
      ]
     },
     "execution_count": 28,
     "metadata": {},
     "output_type": "execute_result"
    }
   ],
   "source": [
    "((UK_Accidents['District Area'] == 'Highland') & (UK_Accidents['Accident_Severity'] == 'Fatal')).sum()"
   ]
  },
  {
   "cell_type": "markdown",
   "id": "53b3c3a0-da81-4cb6-a72d-7dcc183746b6",
   "metadata": {},
   "source": [
    "<h4>Insight 3</h4>\n",
    "<p>Based from the result above, the sum of incident with fatal severity in the Highland district is 88.</p>\n",
    "<hr>"
   ]
  },
  {
   "cell_type": "markdown",
   "id": "bbf84158-a8b9-4e52-a464-9d80dea86a8a",
   "metadata": {},
   "source": [
    "<h3>Question 4. In the District of Northampton, what is the highest number of casualties?</h3>"
   ]
  },
  {
   "cell_type": "code",
   "execution_count": 29,
   "id": "f7520356-5a6d-411a-a7d5-81be8c612a9d",
   "metadata": {},
   "outputs": [
    {
     "data": {
      "text/plain": [
       "Accident_Severity  Light_Conditions           \n",
       "Fatal              Darkness - lighting unknown     1.0\n",
       "                   Darkness - lights lit           3.0\n",
       "                   Darkness - lights unlit         NaN\n",
       "                   Darkness - no lighting          1.0\n",
       "                   Daylight                        6.0\n",
       "Serious            Darkness - lighting unknown     1.0\n",
       "                   Darkness - lights lit           6.0\n",
       "                   Darkness - lights unlit         1.0\n",
       "                   Darkness - no lighting          4.0\n",
       "                   Daylight                        5.0\n",
       "Slight             Darkness - lighting unknown     3.0\n",
       "                   Darkness - lights lit          10.0\n",
       "                   Darkness - lights unlit         2.0\n",
       "                   Darkness - no lighting          2.0\n",
       "                   Daylight                        7.0\n",
       "Name: Number_of_Casualties, dtype: float64"
      ]
     },
     "execution_count": 29,
     "metadata": {},
     "output_type": "execute_result"
    }
   ],
   "source": [
    "DA_AccSev = UK_Accidents[UK_Accidents['District Area'] == 'Northampton'].groupby(['Accident_Severity','Light_Conditions'])['Number_of_Casualties'].max()\n",
    "DA_AccSev"
   ]
  },
  {
   "cell_type": "markdown",
   "id": "0e0d3908-62a0-4241-80ca-7d0c754476e1",
   "metadata": {},
   "source": [
    "<h4>Insight 4</h4>\n",
    "<p>Shown above are the number of casualties and accident severity, as well as the light condition during the incident. The hightest number of casualty in the District of Northamton is 10, slight severity and happen during night with light on.</p>\n",
    "<hr>"
   ]
  },
  {
   "cell_type": "markdown",
   "id": "265a6090-871c-4000-be03-102af1e3369e",
   "metadata": {},
   "source": [
    "<h3>Question 5. In the first 50 District of UK, which District area has the highest number of fatal accident cases?</h3>"
   ]
  },
  {
   "cell_type": "code",
   "execution_count": 30,
   "id": "8acaccf6-19c9-4af5-80dd-e588d86197dd",
   "metadata": {},
   "outputs": [
    {
     "data": {
      "text/plain": [
       "District Area\n",
       "Aberdeen City                    12\n",
       "Aberdeenshire                    66\n",
       "Adur                              8\n",
       "Allerdale                        24\n",
       "Alnwick                           6\n",
       "Amber Valley                     19\n",
       "Angus                            32\n",
       "Argyll and Bute                  27\n",
       "Arun                             15\n",
       "Ashfield                         11\n",
       "Ashford                          26\n",
       "Aylesbury Vale                   28\n",
       "Babergh                          20\n",
       "Barking and Dagenham             20\n",
       "Barnet                           46\n",
       "Barnsley                         35\n",
       "Barrow-in-Furness                 6\n",
       "Basildon                         16\n",
       "Basingstoke and Deane            34\n",
       "Bassetlaw                        38\n",
       "Bath and North East Somerset     26\n",
       "Bedford                          22\n",
       "Berwick-upon-Tweed                3\n",
       "Bexley                           12\n",
       "Birmingham                      105\n",
       "Blaby                            23\n",
       "Blackburn with Darwen             8\n",
       "Blackpool                        11\n",
       "Blaenau Gwent                     5\n",
       "Blaeu Gwent                      10\n",
       "Blyth Valley                      2\n",
       "Bolsover                         11\n",
       "Bolton                           32\n",
       "Boston                           12\n",
       "Bournemouth                       9\n",
       "Bracknell Forest                 10\n",
       "Bradford                         71\n",
       "Braintree                        22\n",
       "Breckland                        30\n",
       "Brent                            28\n",
       "Brentwood                        14\n",
       "Bridgend                         15\n",
       "Bridgnorth                       10\n",
       "Brighton and Hove                20\n",
       "Bristol, City of                 39\n",
       "Broadland                        25\n",
       "Bromley                          32\n",
       "Bromsgrove                       19\n",
       "Broxbourne                        9\n",
       "Broxtowe                         10\n",
       "dtype: int64"
      ]
     },
     "execution_count": 30,
     "metadata": {},
     "output_type": "execute_result"
    }
   ],
   "source": [
    "UK = UK_Accidents[UK_Accidents['Accident_Severity'] == 'Fatal'].groupby(['District Area']).size().head(50)\n",
    "UK"
   ]
  },
  {
   "cell_type": "markdown",
   "id": "f785344e-85b0-489d-8d1b-43cd5e37b179",
   "metadata": {},
   "source": [
    "<h4>Insight 5</h4>\n",
    "<p>Shown above are the first 50 District of UK. As you can see, this 50 District Area are most likely to have lower than 50 fatal cases which is a good thing. Here, you can easily identify which district area has the highest fatal cases, and that district is Birmingham with the total of 105 fatal cases. </p>\n",
    "<hr>"
   ]
  },
  {
   "cell_type": "markdown",
   "id": "0cea26fb-5dba-4785-b463-0525ba8a44e0",
   "metadata": {},
   "source": [
    "<h3>Question 6. In year 2020, what is highest number of total in terms of accident severity?</h3>"
   ]
  },
  {
   "cell_type": "code",
   "execution_count": 31,
   "id": "80e959da-444a-410d-9235-6d8244c3701c",
   "metadata": {},
   "outputs": [],
   "source": [
    "UK_Acc2020 = UK_Accidents[(UK_Accidents['Accident_Severity'] == 'Slight') & (UK_Accidents['Year'] == 2020)]\n",
    "UK_Acc2020SE = UK_Accidents[(UK_Accidents['Accident_Severity'] == 'Serious') & (UK_Accidents['Year'] == 2020)] \n",
    "UK_Acc2020F = UK_Accidents[(UK_Accidents['Accident_Severity'] == 'Fatal') & (UK_Accidents['Year'] == 2020)] "
   ]
  },
  {
   "cell_type": "code",
   "execution_count": 32,
   "id": "7f0db6e4-3fe1-4ba8-870b-866f7508358d",
   "metadata": {},
   "outputs": [
    {
     "data": {
      "text/plain": [
       "Index([182121, 182123, 182124, 182126, 182127, 182128, 182129, 182130, 182131,\n",
       "       182132,\n",
       "       ...\n",
       "       352695, 352696, 352698, 352699, 352700, 352701, 352702, 352703, 352704,\n",
       "       352705],\n",
       "      dtype='int64', length=145129)"
      ]
     },
     "execution_count": 32,
     "metadata": {},
     "output_type": "execute_result"
    }
   ],
   "source": [
    "UK_Acc2020.index"
   ]
  },
  {
   "cell_type": "code",
   "execution_count": 33,
   "id": "a645d173-0fca-49c4-906a-2e5c5dacc80c",
   "metadata": {},
   "outputs": [
    {
     "data": {
      "text/plain": [
       "Index([182115, 182116, 182117, 182118, 182119, 182120, 182122, 182125, 182133,\n",
       "       182138,\n",
       "       ...\n",
       "       352658, 352666, 352668, 352672, 352673, 352679, 352682, 352683, 352684,\n",
       "       352697],\n",
       "      dtype='int64', length=23121)"
      ]
     },
     "execution_count": 33,
     "metadata": {},
     "output_type": "execute_result"
    }
   ],
   "source": [
    "UK_Acc2020SE.index"
   ]
  },
  {
   "cell_type": "code",
   "execution_count": 34,
   "id": "eaae0f68-24ec-4032-8225-7d504f31dd1c",
   "metadata": {},
   "outputs": [
    {
     "data": {
      "text/plain": [
       "Index([182401, 182823, 182832, 182847, 183074, 183146, 185047, 185052, 185053,\n",
       "       185057,\n",
       "       ...\n",
       "       352279, 352310, 352322, 352375, 352428, 352469, 352525, 352583, 352649,\n",
       "       352669],\n",
       "      dtype='int64', length=2341)"
      ]
     },
     "execution_count": 34,
     "metadata": {},
     "output_type": "execute_result"
    }
   ],
   "source": [
    "UK_Acc2020F.index"
   ]
  },
  {
   "cell_type": "markdown",
   "id": "19f4bbd0-defc-457a-8802-b048cf26ace1",
   "metadata": {},
   "source": [
    "<h4>Insight 6</h4>\n",
    "<p>In the year 2020 there are total of 170,591 accidents. According from the result from data set of year 2020, total of 145,129 slight accident severity, while total of 23,121 serious accident severity and total of 2,341 in fatal accident severity. In this insight, it shows that Slight accident severity has the highest number of result while fatal accident severity has the lowest.</p>\n",
    "<hr>"
   ]
  },
  {
   "cell_type": "markdown",
   "id": "18e8d353-1a7d-42cb-977b-14959e2521cd",
   "metadata": {},
   "source": [
    "<h3>Question 7. In one week, which day has the most and less accident?</h3>"
   ]
  },
  {
   "cell_type": "code",
   "execution_count": 35,
   "id": "12ca65c5-5b3d-4560-9c6e-b1e8399fa86a",
   "metadata": {},
   "outputs": [
    {
     "data": {
      "text/plain": [
       "Day_Of_Week\n",
       "Saturday     107178\n",
       "Wednesday     99558\n",
       "Thursday      99511\n",
       "Friday        97900\n",
       "Tuesday       94550\n",
       "Sunday        89302\n",
       "Monday        72680\n",
       "Name: count, dtype: int64"
      ]
     },
     "execution_count": 35,
     "metadata": {},
     "output_type": "execute_result"
    }
   ],
   "source": [
    "UK_Accidents['Day_Of_Week'] = UK_Accidents['Accident Date'].dt.day_name()\n",
    "UK_Accidents['Day_Of_Week'].value_counts()"
   ]
  },
  {
   "cell_type": "markdown",
   "id": "e3a248bb-361d-473b-a91b-3c44deb3401a",
   "metadata": {},
   "source": [
    "<h4>Insight 7</h4>\n",
    "<p>Shown above are the result of accident per day. Seems like Saturday tend to have the highest number of accident, possible reason is that people are on the road heading home from work, school, or going on a weekend trips. And Monday, tend to have the lowest number of accidents.</p>\n",
    "<hr>"
   ]
  },
  {
   "cell_type": "markdown",
   "id": "82d4b0d2-6d03-41fc-8133-791cd721a941",
   "metadata": {},
   "source": [
    "<h3>Question 8. Which month has the highest number of fatal severity?</h3>"
   ]
  },
  {
   "cell_type": "code",
   "execution_count": 36,
   "id": "cf18d1ca-11ec-460d-844e-274220cf478e",
   "metadata": {},
   "outputs": [
    {
     "data": {
      "text/plain": [
       "Accident Date\n",
       "August       801\n",
       "October      798\n",
       "May          760\n",
       "July         753\n",
       "November     747\n",
       "January      740\n",
       "September    723\n",
       "April        697\n",
       "March        681\n",
       "June         673\n",
       "December     671\n",
       "February     617\n",
       "Name: count, dtype: int64"
      ]
     },
     "execution_count": 36,
     "metadata": {},
     "output_type": "execute_result"
    }
   ],
   "source": [
    "UK_Month = UK_Accidents[UK_Accidents['Accident_Severity'] == 'Fatal'] ['Accident Date'].dt.month_name().value_counts()\n",
    "UK_Month"
   ]
  },
  {
   "cell_type": "markdown",
   "id": "510bea46-b251-4d2c-a397-e4e9a5ae8906",
   "metadata": {},
   "source": [
    "<h4>Insight 8</h4>\n",
    "<p>The month of August has the highest number of fatal severity with the total of 801. And on the other hand, the month of February has the lowest cases of fatal severity with the total of 617.</p>\n",
    "<hr>"
   ]
  },
  {
   "cell_type": "markdown",
   "id": "4ffaf593-316b-46a4-8acc-2629c8f2baf7",
   "metadata": {},
   "source": [
    "<h3>Question 9. What wheather condition show the lowest number of casualty?</h3>"
   ]
  },
  {
   "cell_type": "code",
   "execution_count": 37,
   "id": "fa5cb713-4e07-4f22-b32c-119c4cd6e4c9",
   "metadata": {},
   "outputs": [
    {
     "data": {
      "text/plain": [
       "Weather_Conditions\n",
       "Fine + high winds          8554\n",
       "Fine no high winds       535013\n",
       "Fog or mist                3528\n",
       "Other                     17150\n",
       "Raining + high winds       9615\n",
       "Raining no high winds     79696\n",
       "Snowing + high winds        885\n",
       "Snowing no high winds      6238\n",
       "Name: Number_of_Casualties, dtype: int64"
      ]
     },
     "execution_count": 37,
     "metadata": {},
     "output_type": "execute_result"
    }
   ],
   "source": [
    "UK_Accidents.groupby('Weather_Conditions')['Number_of_Casualties'].size()"
   ]
  },
  {
   "cell_type": "markdown",
   "id": "1fc0ec4e-d975-4719-a22c-82a345dcfd12",
   "metadata": {},
   "source": [
    "<h4>Insight 9</h4>\n",
    "<p>Normal wheather is more likely to have the highest number of casualties rather than foggy or raining wheather condition. Whereas, Snowing with high winds has the lowest number of casualties.</p>\n",
    "<hr>"
   ]
  },
  {
   "cell_type": "markdown",
   "id": "fca08ce2-c655-4dcc-8c5c-89ddda2e9cad",
   "metadata": {},
   "source": [
    "<h3>Question 10. What road condition most likely has the lowest case of serious injuries?</h3>"
   ]
  },
  {
   "cell_type": "code",
   "execution_count": 38,
   "id": "17f4dadb-b508-43ce-ad53-44282317ec76",
   "metadata": {},
   "outputs": [
    {
     "data": {
      "text/plain": [
       "Road_Surface_Conditions\n",
       "Dry                     61708\n",
       "Wet or damp             23785\n",
       "Frost or ice             2007\n",
       "Snow                      565\n",
       "Flood over 3cm. deep      152\n",
       "Name: count, dtype: int64"
      ]
     },
     "execution_count": 38,
     "metadata": {},
     "output_type": "execute_result"
    }
   ],
   "source": [
    "UK_RoadSurf = UK_Accidents[UK_Accidents['Accident_Severity'] == 'Serious'] ['Road_Surface_Conditions']\n",
    "UK_RoadSurf.value_counts()"
   ]
  },
  {
   "cell_type": "markdown",
   "id": "e54f4dc0-acff-4947-99be-a3ecce11e4f7",
   "metadata": {},
   "source": [
    "<h4>Insight 10</h4>\n",
    "<p>The road condition that has the lowest case resulting to serious injury is flood over 3cm deep. And Dry road condition has the highest number of cases causing serious injury, while wet or damp condition is second to have the highest number of cases.</p>\n",
    "<hr>"
   ]
  },
  {
   "cell_type": "markdown",
   "id": "01c20873-9bc9-4f46-8102-6c22b1ceeffa",
   "metadata": {},
   "source": [
    "<h3>Question 11. How many high road related accidents are recorded in year 2021?</h3>"
   ]
  },
  {
   "cell_type": "code",
   "execution_count": 39,
   "id": "b4d565fb-8adb-4ac2-989c-74ca46f9df2c",
   "metadata": {},
   "outputs": [
    {
     "name": "stdout",
     "output_type": "stream",
     "text": [
      "<class 'pandas.core.frame.DataFrame'>\n",
      "Index: 24052 entries, 352713 to 516255\n",
      "Data columns (total 18 columns):\n",
      " #   Column                   Non-Null Count  Dtype         \n",
      "---  ------                   --------------  -----         \n",
      " 0   Index                    24052 non-null  category      \n",
      " 1   Accident_Severity        24052 non-null  category      \n",
      " 2   Accident Date            24052 non-null  datetime64[ns]\n",
      " 3   Latitude                 24052 non-null  float64       \n",
      " 4   Light_Conditions         24052 non-null  category      \n",
      " 5   District Area            24052 non-null  category      \n",
      " 6   Longitude                24052 non-null  float64       \n",
      " 7   Number_of_Casualties     24052 non-null  int64         \n",
      " 8   Number_of_Vehicles       24052 non-null  int64         \n",
      " 9   Road_Surface_Conditions  24052 non-null  category      \n",
      " 10  Road_Type                24052 non-null  category      \n",
      " 11  Urban_or_Rural_Area      24052 non-null  category      \n",
      " 12  Weather_Conditions       24052 non-null  category      \n",
      " 13  Vehicle_Type             24052 non-null  category      \n",
      " 14  Year                     24052 non-null  int32         \n",
      " 15  Month                    24052 non-null  int32         \n",
      " 16  Day                      24052 non-null  int32         \n",
      " 17  Day_Of_Week              24052 non-null  object        \n",
      "dtypes: category(9), datetime64[ns](1), float64(2), int32(3), int64(2), object(1)\n",
      "memory usage: 21.2+ MB\n"
     ]
    }
   ],
   "source": [
    "UK_Acc2021 = UK_Accidents[(UK_Accidents['Road_Type'] == 'Dual carriageway') & (UK_Accidents['Year'] == 2021)] \n",
    "UK_Acc2021.info()"
   ]
  },
  {
   "cell_type": "markdown",
   "id": "7ad56b8d-6b82-41e6-a50a-119fc3b03c44",
   "metadata": {},
   "source": [
    "<h4>Insight 11</h4>\n",
    "<p>In 2021, there are total of 24,052 recorded that is related to high road accidents.</p>\n",
    "<hr>"
   ]
  },
  {
   "cell_type": "markdown",
   "id": "c4a75102-9225-4538-9345-62aa070e8c7e",
   "metadata": {},
   "source": [
    "<h3>Question 12. Do Rural areas have high accident recorded than Urban areas?</h3>"
   ]
  },
  {
   "cell_type": "code",
   "execution_count": 40,
   "id": "d68f822f-9065-49a7-8284-90d8240e3d1e",
   "metadata": {},
   "outputs": [
    {
     "data": {
      "text/plain": [
       "<Axes: xlabel='Urban_or_Rural_Area'>"
      ]
     },
     "execution_count": 40,
     "metadata": {},
     "output_type": "execute_result"
    },
    {
     "data": {
      "image/png": "[encoded data removed]",
      "text/plain": [
       "<Figure size 640x480 with 1 Axes>"
      ]
     },
     "metadata": {},
     "output_type": "display_data"
    }
   ],
   "source": [
    "UK_Accidents['Urban_or_Rural_Area'].value_counts().plot(kind = 'bar', color = 'lightgrey')"
   ]
  },
  {
   "cell_type": "markdown",
   "id": "d6a11746-e838-40a5-9ed6-604f530d066f",
   "metadata": {},
   "source": [
    "<h4>Insight 12</h4>\n",
    "<p>Seems like Urban areas tend to have the highest accident recorded than Rural areas. More likely because of high volume of vehicle and pedestrian traffic, complex road networks with more intersections and a higher density of opportunities for accidents to occur.</p>\n",
    "<hr>"
   ]
  },
  {
   "cell_type": "markdown",
   "id": "eed072a2-f996-4028-a255-4b91422615f0",
   "metadata": {},
   "source": [
    "<h3>Question 13. Which District of UK has the lowest number of accidents recorded?</h3>"
   ]
  },
  {
   "cell_type": "code",
   "execution_count": 41,
   "id": "3d3ad18b-99fb-43d8-a039-34033c8b7075",
   "metadata": {},
   "outputs": [
    {
     "data": {
      "text/plain": [
       "District Area\n",
       "Birmingham            13491\n",
       "Leeds                  8898\n",
       "Manchester             6720\n",
       "Bradford               6212\n",
       "Sheffield              5710\n",
       "                      ...  \n",
       "Berwick-upon-Tweed      153\n",
       "Teesdale                142\n",
       "Shetland Islands        133\n",
       "Orkney Islands          117\n",
       "Clackmannanshire         91\n",
       "Name: count, Length: 422, dtype: int64"
      ]
     },
     "execution_count": 41,
     "metadata": {},
     "output_type": "execute_result"
    }
   ],
   "source": [
    "UK_Accidents['District Area'].value_counts()"
   ]
  },
  {
   "cell_type": "markdown",
   "id": "434fa8ab-b633-482f-ad8a-96dbc6ec5347",
   "metadata": {},
   "source": [
    "<h4>Insight 13</h4>\n",
    "<p>Based from the result above, the district of UK that has the lowest number of accident is the district of Clackmannanshire and second to the lowest accidents recorded is Orkney Islands. In contrast, the district of Birmingham has the highest number of accidents recorded in the data set.</p>\n",
    "<hr>"
   ]
  },
  {
   "cell_type": "markdown",
   "id": "fab7ce31-1c11-4d98-b373-297ca0164cfe",
   "metadata": {},
   "source": [
    "<h3>Question 14. What road type has the highest number of casualties?</h3>"
   ]
  },
  {
   "cell_type": "code",
   "execution_count": 42,
   "id": "8e7ea031-61fa-4e19-97f1-0b05be0427db",
   "metadata": {},
   "outputs": [
    {
     "data": {
      "text/plain": [
       "<Axes: xlabel='Road_Type'>"
      ]
     },
     "execution_count": 42,
     "metadata": {},
     "output_type": "execute_result"
    },
    {
     "data": {
      "image/png": "[encoded data removed]",
      "text/plain": [
       "<Figure size 640x480 with 1 Axes>"
      ]
     },
     "metadata": {},
     "output_type": "display_data"
    }
   ],
   "source": [
    "UK_RoCas = UK_Accidents.groupby('Road_Type')['Number_of_Casualties'].max().plot(kind = 'bar', color = 'black')\n",
    "UK_RoCas"
   ]
  },
  {
   "cell_type": "markdown",
   "id": "572fd5c0-7af3-446c-8a53-fc411f5cc321",
   "metadata": {},
   "source": [
    "<h4>Insight 14</h4>\n",
    "<p>Slip road have the highest number of casualties in the dataset with the total of 68. Possible reason for this high number of casualties is that, these areas invlove merging or existing traffic, often at high speeds that can cause accidents. </p>\n",
    "<hr>"
   ]
  },
  {
   "cell_type": "markdown",
   "id": "f991a78d-278e-483d-beec-722c9dfea2af",
   "metadata": {},
   "source": [
    "<h3>Question 15. What road condition are most likely to cause fatal accidents in Urban and Rural areas?</h3>"
   ]
  },
  {
   "cell_type": "code",
   "execution_count": 43,
   "id": "4f95055f-97e3-404e-a8c3-5a6d1f755cd2",
   "metadata": {},
   "outputs": [
    {
     "data": {
      "text/plain": [
       "Urban_or_Rural_Area  Road_Surface_Conditions  Accident_Severity\n",
       "Rural                Dry                      Fatal                  3637\n",
       "                                              Serious               24240\n",
       "                                              Slight               117268\n",
       "                     Flood over 3cm. deep     Fatal                    20\n",
       "                                              Serious                 122\n",
       "                                              Slight                  643\n",
       "                     Frost or ice             Fatal                   156\n",
       "                                              Serious                1276\n",
       "                                              Slight                 9521\n",
       "                     Snow                     Fatal                    29\n",
       "                                              Serious                 356\n",
       "                                              Slight                 2717\n",
       "                     Wet or damp              Fatal                  1759\n",
       "                                              Serious               11318\n",
       "                                              Slight                65928\n",
       "Unallocated          Dry                      Fatal                     0\n",
       "                                              Serious                   0\n",
       "                                              Slight                    5\n",
       "                     Flood over 3cm. deep     Fatal                     0\n",
       "                                              Serious                   0\n",
       "                                              Slight                    1\n",
       "                     Frost or ice             Fatal                     0\n",
       "                                              Serious                   0\n",
       "                                              Slight                    0\n",
       "                     Snow                     Fatal                     0\n",
       "                                              Serious                   0\n",
       "                                              Slight                    0\n",
       "                     Wet or damp              Fatal                     0\n",
       "                                              Serious                   1\n",
       "                                              Slight                    4\n",
       "Urban                Dry                      Fatal                  2153\n",
       "                                              Serious               37468\n",
       "                                              Slight               263776\n",
       "                     Flood over 3cm. deep     Fatal                     3\n",
       "                                              Serious                  30\n",
       "                                              Slight                  198\n",
       "                     Frost or ice             Fatal                    37\n",
       "                                              Serious                 731\n",
       "                                              Slight                 6796\n",
       "                     Snow                     Fatal                     6\n",
       "                                              Serious                 209\n",
       "                                              Slight                 2573\n",
       "                     Wet or damp              Fatal                   861\n",
       "                                              Serious               12466\n",
       "                                              Slight                94371\n",
       "dtype: int64"
      ]
     },
     "execution_count": 43,
     "metadata": {},
     "output_type": "execute_result"
    }
   ],
   "source": [
    "UK_Accidents.groupby(['Urban_or_Rural_Area', 'Road_Surface_Conditions', 'Accident_Severity']).size()"
   ]
  },
  {
   "cell_type": "markdown",
   "id": "f01103b4-f50f-42dc-b262-1b4cc9157212",
   "metadata": {},
   "source": [
    "<h4>Insight 15</h4>\n",
    "<p>In this insight, shown are the road conditions that causes fatal accident in urban and rural areas. In Rural and Urban areas, Dry road condition are most likely to cause more fatal accident than other conditions like frost and snow.</p>\n",
    "<hr>"
   ]
  },
  {
   "cell_type": "markdown",
   "id": "8c603f8c-d4ac-4a96-9663-90167b928891",
   "metadata": {},
   "source": [
    "<h3>Question 16. How many accidents happen at night when the lights are off?</h3>"
   ]
  },
  {
   "cell_type": "code",
   "execution_count": 44,
   "id": "75d38a39-5c27-4a9c-a996-29dcd07ed7aa",
   "metadata": {},
   "outputs": [
    {
     "data": {
      "text/plain": [
       "np.int64(2543)"
      ]
     },
     "execution_count": 44,
     "metadata": {},
     "output_type": "execute_result"
    }
   ],
   "source": [
    "UK_LiOff = UK_Accidents[UK_Accidents['Light_Conditions'] == 'Darkness - lights unlit'].value_counts().sum()\n",
    "UK_LiOff"
   ]
  },
  {
   "cell_type": "markdown",
   "id": "8bf179a6-5bc7-404b-92b0-3d2f0f9b942f",
   "metadata": {
    "jp-MarkdownHeadingCollapsed": true
   },
   "source": [
    "<h4>Insight 16</h4>\n",
    "<p>A total of 2,543 accidents happen at night when street lights were off. This shows how critical proper street lighting is for nighttime driving safety. </p>\n",
    "<hr>"
   ]
  },
  {
   "cell_type": "markdown",
   "id": "cb2eb4fa-546a-41b5-a83c-9f0f598a4c08",
   "metadata": {},
   "source": [
    "<h3>Question 17. What year has the highest number of accident?</h3>"
   ]
  },
  {
   "cell_type": "code",
   "execution_count": 45,
   "id": "3aab9cf8-6058-40f8-a9dd-e50ed05cbec5",
   "metadata": {},
   "outputs": [
    {
     "data": {
      "text/plain": [
       "<Axes: ylabel='count'>"
      ]
     },
     "execution_count": 45,
     "metadata": {},
     "output_type": "execute_result"
    },
    {
     "data": {
      "image/png": "[encoded data removed]",
      "text/plain": [
       "<Figure size 640x480 with 1 Axes>"
      ]
     },
     "metadata": {},
     "output_type": "display_data"
    }
   ],
   "source": [
    "UK_Year = UK_Accidents['Year'].value_counts().sort_index().plot(kind = 'pie', colors = ['black', 'grey', 'brown', 'beige'], autopct = '%1.1f%%')\n",
    "UK_Year"
   ]
  },
  {
   "cell_type": "markdown",
   "id": "cb2bcf86-985b-4913-9ca6-d1177dee406d",
   "metadata": {
    "jp-MarkdownHeadingCollapsed": true
   },
   "source": [
    "<h4>Insight 17</h4>\n",
    "<p>In this insight, shown are the sum of accidents happen in each year. Fromn this result, 2019 recorded the highest number of accidents with the total of 182,115 (27.6%) marks as the peak year in the dataset.</p>\n",
    "<hr>"
   ]
  },
  {
   "cell_type": "markdown",
   "id": "074f77b2-29f1-4a74-a0eb-dca1564935b1",
   "metadata": {},
   "source": [
    "<h3>Question 18. Which severity level has the highest percentage of casualties?</h3>"
   ]
  },
  {
   "cell_type": "code",
   "execution_count": 46,
   "id": "db414355-9c27-4a41-8860-28be3c5c9961",
   "metadata": {},
   "outputs": [
    {
     "data": {
      "image/png": "[encoded data removed]",
      "text/plain": [
       "<Figure size 640x480 with 1 Axes>"
      ]
     },
     "metadata": {},
     "output_type": "display_data"
    }
   ],
   "source": [
    "UK_Accsev = UK_Accidents.groupby('Accident_Severity') ['Number_of_Casualties'].sum().plot(kind = 'pie', colors = ['cornflowerblue', 'skyblue', 'cadetblue'], autopct = '%1.1f%%')"
   ]
  },
  {
   "cell_type": "markdown",
   "id": "e52f32cb-1002-42e5-8ee2-e0970500670e",
   "metadata": {
    "jp-MarkdownHeadingCollapsed": true
   },
   "source": [
    "<h4>Insight 18</h4>\n",
    "<p>83.7% of accidents lead to slight injuries, while fatal cases make up just 1.8% the lowest percentage of casualties.</p>\n",
    "<hr>"
   ]
  },
  {
   "cell_type": "markdown",
   "id": "7589c782-b5da-41fe-986f-785be6d8160c",
   "metadata": {},
   "source": [
    "<h3>Question 19. What is the sum of accidents recorded in year 2022?</h3>"
   ]
  },
  {
   "cell_type": "code",
   "execution_count": 47,
   "id": "7d486ecb-a776-4d92-b10b-b4cf03dd7b79",
   "metadata": {},
   "outputs": [
    {
     "data": {
      "text/plain": [
       "np.int64(195737)"
      ]
     },
     "execution_count": 47,
     "metadata": {},
     "output_type": "execute_result"
    }
   ],
   "source": [
    "UK_Acc2022 = UK_Accidents[UK_Accidents['Accident Date'].dt.year == 2022]\n",
    "Cass2022 = UK_Acc2022 ['Number_of_Casualties'].sum()\n",
    "Cass2022"
   ]
  },
  {
   "cell_type": "markdown",
   "id": "eb188509-f67f-4d3e-aec4-b2f2cea8a5e4",
   "metadata": {
    "jp-MarkdownHeadingCollapsed": true
   },
   "source": [
    "<h4>Insight 19</h4>\n",
    "<p>In 2022, UK road accidents resulted in 195,737 casualties, a striking number that underscores the ongoing need for traffic safety measures and public awareness.\n",
    "</p>\n",
    "<hr>"
   ]
  },
  {
   "cell_type": "markdown",
   "id": "2d71fac5-f746-4cee-adbf-a4916a457360",
   "metadata": {},
   "source": [
    "<h3>Question 20. Do single carriageways has more accidents in rural or urban areas?</h3>"
   ]
  },
  {
   "cell_type": "code",
   "execution_count": 48,
   "id": "37aaf1d4-0e2c-49ef-9a7c-5184c5db4798",
   "metadata": {},
   "outputs": [
    {
     "data": {
      "text/plain": [
       "Urban_or_Rural_Area\n",
       "Rural          249634\n",
       "Unallocated        11\n",
       "Urban          417765\n",
       "Name: Number_of_Casualties, dtype: int64"
      ]
     },
     "execution_count": 48,
     "metadata": {},
     "output_type": "execute_result"
    }
   ],
   "source": [
    "Acc_SiCa = UK_Accidents[UK_Accidents['Road_Type'] == 'Single carriageway'].groupby ('Urban_or_Rural_Area')['Number_of_Casualties'].sum()\n",
    "Acc_SiCa"
   ]
  },
  {
   "cell_type": "markdown",
   "id": "cd7b0c54-bb4c-4b99-a926-730143f83b83",
   "metadata": {
    "jp-MarkdownHeadingCollapsed": true
   },
   "source": [
    "<h4>Insight 20</h4>\n",
    "<p> Single carriageway accidents are far more common in urban areas, with 417,765 casualties, compared to 249,634 in rural zones. This highlights the need for stronger safety measures in busy city roads where traffic density and pedestrian activity are higher.\n",
    "</p>\n",
    "<hr>"
   ]
  },
  {
   "cell_type": "markdown",
   "id": "fef24997-db40-4a6c-b3ed-1487686cc706",
   "metadata": {},
   "source": [
    "<h3>Question 21. What wheather light conditions has low number of casualties?</h3>"
   ]
  },
  {
   "cell_type": "code",
   "execution_count": 49,
   "id": "60952645-d064-44f4-aba4-49b60bc2c921",
   "metadata": {},
   "outputs": [
    {
     "data": {
      "text/plain": [
       "Weather_Conditions     Light_Conditions           \n",
       "Fine + high winds      Darkness - lighting unknown        82\n",
       "                       Darkness - lights lit            2543\n",
       "                       Darkness - lights unlit            75\n",
       "                       Darkness - no lighting           1213\n",
       "                       Daylight                         7943\n",
       "Fine no high winds     Darkness - lighting unknown      6971\n",
       "                       Darkness - lights lit          128194\n",
       "                       Darkness - lights unlit          2306\n",
       "                       Darkness - no lighting          39324\n",
       "                       Daylight                       544080\n",
       "Fog or mist            Darkness - lighting unknown        89\n",
       "                       Darkness - lights lit            1323\n",
       "                       Darkness - lights unlit            48\n",
       "                       Darkness - no lighting           1267\n",
       "                       Daylight                         2399\n",
       "Other                  Darkness - lighting unknown       234\n",
       "                       Darkness - lights lit            6535\n",
       "                       Darkness - lights unlit           177\n",
       "                       Darkness - no lighting           2824\n",
       "                       Daylight                        13466\n",
       "Raining + high winds   Darkness - lighting unknown       147\n",
       "                       Darkness - lights lit            4185\n",
       "                       Darkness - lights unlit           115\n",
       "                       Darkness - no lighting           2173\n",
       "                       Daylight                         7001\n",
       "Raining no high winds  Darkness - lighting unknown       808\n",
       "                       Darkness - lights lit           31563\n",
       "                       Darkness - lights unlit           620\n",
       "                       Darkness - no lighting           9538\n",
       "                       Daylight                        69700\n",
       "Snowing + high winds   Darkness - lighting unknown        21\n",
       "                       Darkness - lights lit             354\n",
       "                       Darkness - lights unlit             7\n",
       "                       Darkness - no lighting            247\n",
       "                       Daylight                          626\n",
       "Snowing no high winds  Darkness - lighting unknown       119\n",
       "                       Darkness - lights lit            2411\n",
       "                       Darkness - lights unlit            37\n",
       "                       Darkness - no lighting           1129\n",
       "                       Daylight                         4674\n",
       "Name: Number_of_Casualties, dtype: int64"
      ]
     },
     "execution_count": 49,
     "metadata": {},
     "output_type": "execute_result"
    }
   ],
   "source": [
    "LoCas = UK_Accidents.groupby(['Weather_Conditions', 'Light_Conditions'])['Number_of_Casualties'].sum()\n",
    "LoCas"
   ]
  },
  {
   "cell_type": "markdown",
   "id": "64e64777-4626-4b8c-ad1a-dfc7b7450f68",
   "metadata": {
    "jp-MarkdownHeadingCollapsed": true
   },
   "source": [
    "<h4>Insight 21</h4>\n",
    "<p>The lowest number of casualties occurred during fine weather with high winds and darkness with unknown lighting, with total of 82. This rare combination suggests that extreme or unclear conditions may lead to fewer vehicles on the road, or more cautious driving.\n",
    "</p>\n",
    "<hr>"
   ]
  },
  {
   "cell_type": "markdown",
   "id": "00b5e7ac-1b99-4dee-9dfb-1436fccc28f5",
   "metadata": {},
   "source": [
    "<h3>Question 22. What is the maximum latitude recorded in the dataset?</h3>"
   ]
  },
  {
   "cell_type": "code",
   "execution_count": 50,
   "id": "4c295f37-8e7a-4641-95ee-4d9a1bf2791b",
   "metadata": {},
   "outputs": [
    {
     "data": {
      "text/plain": [
       "np.float64(60.757544)"
      ]
     },
     "execution_count": 50,
     "metadata": {},
     "output_type": "execute_result"
    }
   ],
   "source": [
    "UK_Accidents['Latitude'].max()"
   ]
  },
  {
   "cell_type": "markdown",
   "id": "38ade056-fcf7-42cd-a602-9cfca8f8e4ab",
   "metadata": {
    "jp-MarkdownHeadingCollapsed": true
   },
   "source": [
    "<h4>Insight 22</h4>\n",
    "<p>UK accident data reaches up to latitude 60.78, showing coverage of far northern areas.\n",
    "</p>\n",
    "<hr>"
   ]
  },
  {
   "cell_type": "markdown",
   "id": "e272724e-784a-4f6c-afc8-eec9d4334e67",
   "metadata": {},
   "source": [
    "<h3>Question 23. Is there a correlation between number of vehicles and number of casualties?</h3>"
   ]
  },
  {
   "cell_type": "code",
   "execution_count": 51,
   "id": "3eaf7878-da18-40ba-ba6d-15a4d8c79881",
   "metadata": {},
   "outputs": [
    {
     "data": {
      "text/plain": [
       "np.float64(0.22888886126927557)"
      ]
     },
     "execution_count": 51,
     "metadata": {},
     "output_type": "execute_result"
    }
   ],
   "source": [
    "VeCa = UK_Accidents['Number_of_Vehicles'].corr(UK_Accidents['Number_of_Casualties'])\n",
    "VeCa"
   ]
  },
  {
   "cell_type": "markdown",
   "id": "ed96080e-a5a6-4326-8c42-63193bd05bf3",
   "metadata": {},
   "source": [
    "<h4>Insight 23</h4>\n",
    "<p>There's a weak positive correlation (0.23) between the number of vehicles involved and the number of casualties, meaning more vehicles slightly increase the chance of more injuries, but the relationship isn’t strong.\n",
    "</p>\n",
    "<hr>"
   ]
  },
  {
   "cell_type": "markdown",
   "id": "159b21f4-b6ac-4089-a9d8-7b165647adba",
   "metadata": {},
   "source": [
    "<h3>Question 24.Which day per week has the most fatal accidents recorded?</h3>"
   ]
  },
  {
   "cell_type": "code",
   "execution_count": 52,
   "id": "f5fdc0dd-7c6b-4620-815c-6b57f085a448",
   "metadata": {},
   "outputs": [
    {
     "data": {
      "text/plain": [
       "<Axes: ylabel='count'>"
      ]
     },
     "execution_count": 52,
     "metadata": {},
     "output_type": "execute_result"
    },
    {
     "data": {
      "image/png": "[encoded data removed]",
      "text/plain": [
       "<Figure size 640x480 with 1 Axes>"
      ]
     },
     "metadata": {},
     "output_type": "display_data"
    }
   ],
   "source": [
    "AccSev_Fatal = UK_Accidents[UK_Accidents['Accident_Severity'] == 'Fatal']['Day_Of_Week'].value_counts()\n",
    "AccSev_Fatal.plot(kind = 'pie', autopct = '%1.1f%%')"
   ]
  },
  {
   "cell_type": "markdown",
   "id": "2f59929a-f28d-4b5d-8ce9-f449d3d92067",
   "metadata": {},
   "source": [
    "<h4>Insight 24</h4>\n",
    "<p>Sunday has the highest percentage of fatal accidents at 17.6%, making it the most dangerous day of the week on UK roads. Monday and Saturday follow closely at 16.0% each.\n",
    "</p>\n",
    "<hr>"
   ]
  },
  {
   "cell_type": "markdown",
   "id": "38360477-4188-4e12-bc08-0b457463534a",
   "metadata": {},
   "source": [
    "<h3>Question 25. What is the average number of vehicles involved in accidents based on road conditions?</h3>"
   ]
  },
  {
   "cell_type": "code",
   "execution_count": 53,
   "id": "db1eb43a-26ef-4788-822a-eae7a9bf2f1c",
   "metadata": {},
   "outputs": [
    {
     "data": {
      "text/plain": [
       "Road_Surface_Conditions\n",
       "Dry                     1.804491\n",
       "Flood over 3cm. deep    1.782609\n",
       "Frost or ice            1.756477\n",
       "Snow                    1.600000\n",
       "Wet or damp             1.753053\n",
       "Name: Number_of_Vehicles, dtype: float64"
      ]
     },
     "execution_count": 53,
     "metadata": {},
     "output_type": "execute_result"
    }
   ],
   "source": [
    "Acc_VeRo = UK_Accidents[UK_Accidents['Accident_Severity'] == 'Fatal'].groupby ('Road_Surface_Conditions')['Number_of_Vehicles'].mean()\n",
    "Acc_VeRo"
   ]
  },
  {
   "cell_type": "markdown",
   "id": "d329ed7b-2bfe-4cc8-9ed1-c9912b4d3cd2",
   "metadata": {},
   "source": [
    "<h4>Insight 25</h4>\n",
    "<p>Fatal accidents involve an average of fewer than 2 vehicles, regardless of road surface conditions. The highest average is on dry roads (1.80 vehicles), while snowy and icy roads show slightly lower averages.</p>\n",
    "<hr>"
   ]
  },
  {
   "cell_type": "code",
   "execution_count": null,
   "id": "146f6732-8b30-47f3-bded-c00d2852b0d3",
   "metadata": {},
   "outputs": [],
   "source": []
  }
 ],
 "metadata": {
  "kernelspec": {
   "display_name": "Python 3 (ipykernel)",
   "language": "python",
   "name": "python3"
  },
  "language_info": {
   "codemirror_mode": {
    "name": "ipython",
    "version": 3
   },
   "file_extension": ".py",
   "mimetype": "text/x-python",
   "name": "python",
   "nbconvert_exporter": "python",
   "pygments_lexer": "ipython3",
   "version": "3.13.6"
  }
 },
 "nbformat": 4,
 "nbformat_minor": 5
}
